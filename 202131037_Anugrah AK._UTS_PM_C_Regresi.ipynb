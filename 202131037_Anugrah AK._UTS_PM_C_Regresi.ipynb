{
 "cells": [
  {
   "cell_type": "markdown",
   "id": "3b30ec5a",
   "metadata": {},
   "source": [
    "# Import Library"
   ]
  },
  {
   "cell_type": "code",
   "execution_count": 1,
   "id": "69782df9",
   "metadata": {},
   "outputs": [],
   "source": [
    "import pandas as pd\n",
    "import numpy as np\n",
    "#import pandas as pd adalah pengimpor dari library/pustaka pandas, yang dimana data yang dijabarkan juga memengaruhi terhadap suatu dataset yang diuraikan dengan pemrograman python, juga penamaan nya menggunakan pd. Sedangkan, import numpy as np adalah pengimpor dari library/pustaka numpy, yang dimana perhitungan digital terhadap suatu dataset yang diuraikan dengan pemrograman python, juga penamaan nya menggunakan np."
   ]
  },
  {
   "cell_type": "markdown",
   "id": "13c32e02",
   "metadata": {},
   "source": [
    "# Membaca Dataset"
   ]
  },
  {
   "cell_type": "code",
   "execution_count": 2,
   "id": "695f15de",
   "metadata": {},
   "outputs": [],
   "source": [
    "corruptions = pd.read_csv('R04_corruptions.csv')\n",
    "#corruptions = pd.read_csv('R04_corruptions.csv') adalah pembacaan file csv, dimana skrip membaca file dengan nama file R04_corruptions dan pemanggilan untuk membaca file dengan penamaan corruptions."
   ]
  },
  {
   "cell_type": "markdown",
   "id": "86575c03",
   "metadata": {},
   "source": [
    "# Dataset"
   ]
  },
  {
   "cell_type": "code",
   "execution_count": 3,
   "id": "48daf0f9",
   "metadata": {},
   "outputs": [
    {
     "data": {
      "text/html": [
       "<div>\n",
       "<style scoped>\n",
       "    .dataframe tbody tr th:only-of-type {\n",
       "        vertical-align: middle;\n",
       "    }\n",
       "\n",
       "    .dataframe tbody tr th {\n",
       "        vertical-align: top;\n",
       "    }\n",
       "\n",
       "    .dataframe thead th {\n",
       "        text-align: right;\n",
       "    }\n",
       "</style>\n",
       "<table border=\"1\" class=\"dataframe\">\n",
       "  <thead>\n",
       "    <tr style=\"text-align: right;\">\n",
       "      <th></th>\n",
       "      <th>Corruption Perception (X)</th>\n",
       "      <th>Government Transparency (Y)</th>\n",
       "    </tr>\n",
       "  </thead>\n",
       "  <tbody>\n",
       "    <tr>\n",
       "      <th>0</th>\n",
       "      <td>3.2</td>\n",
       "      <td>65</td>\n",
       "    </tr>\n",
       "    <tr>\n",
       "      <th>1</th>\n",
       "      <td>2.5</td>\n",
       "      <td>72</td>\n",
       "    </tr>\n",
       "    <tr>\n",
       "      <th>2</th>\n",
       "      <td>4.1</td>\n",
       "      <td>58</td>\n",
       "    </tr>\n",
       "    <tr>\n",
       "      <th>3</th>\n",
       "      <td>2.8</td>\n",
       "      <td>68</td>\n",
       "    </tr>\n",
       "    <tr>\n",
       "      <th>4</th>\n",
       "      <td>3.5</td>\n",
       "      <td>60</td>\n",
       "    </tr>\n",
       "    <tr>\n",
       "      <th>5</th>\n",
       "      <td>2.4</td>\n",
       "      <td>75</td>\n",
       "    </tr>\n",
       "    <tr>\n",
       "      <th>6</th>\n",
       "      <td>3.9</td>\n",
       "      <td>55</td>\n",
       "    </tr>\n",
       "    <tr>\n",
       "      <th>7</th>\n",
       "      <td>2.7</td>\n",
       "      <td>70</td>\n",
       "    </tr>\n",
       "    <tr>\n",
       "      <th>8</th>\n",
       "      <td>3.8</td>\n",
       "      <td>57</td>\n",
       "    </tr>\n",
       "    <tr>\n",
       "      <th>9</th>\n",
       "      <td>2.9</td>\n",
       "      <td>71</td>\n",
       "    </tr>\n",
       "    <tr>\n",
       "      <th>10</th>\n",
       "      <td>4.2</td>\n",
       "      <td>54</td>\n",
       "    </tr>\n",
       "    <tr>\n",
       "      <th>11</th>\n",
       "      <td>2.6</td>\n",
       "      <td>73</td>\n",
       "    </tr>\n",
       "    <tr>\n",
       "      <th>12</th>\n",
       "      <td>3.0</td>\n",
       "      <td>65</td>\n",
       "    </tr>\n",
       "    <tr>\n",
       "      <th>13</th>\n",
       "      <td>2.3</td>\n",
       "      <td>76</td>\n",
       "    </tr>\n",
       "    <tr>\n",
       "      <th>14</th>\n",
       "      <td>4.0</td>\n",
       "      <td>56</td>\n",
       "    </tr>\n",
       "    <tr>\n",
       "      <th>15</th>\n",
       "      <td>3.4</td>\n",
       "      <td>62</td>\n",
       "    </tr>\n",
       "    <tr>\n",
       "      <th>16</th>\n",
       "      <td>2.2</td>\n",
       "      <td>78</td>\n",
       "    </tr>\n",
       "    <tr>\n",
       "      <th>17</th>\n",
       "      <td>4.3</td>\n",
       "      <td>53</td>\n",
       "    </tr>\n",
       "    <tr>\n",
       "      <th>18</th>\n",
       "      <td>3.3</td>\n",
       "      <td>63</td>\n",
       "    </tr>\n",
       "    <tr>\n",
       "      <th>19</th>\n",
       "      <td>2.1</td>\n",
       "      <td>80</td>\n",
       "    </tr>\n",
       "    <tr>\n",
       "      <th>20</th>\n",
       "      <td>4.4</td>\n",
       "      <td>52</td>\n",
       "    </tr>\n",
       "    <tr>\n",
       "      <th>21</th>\n",
       "      <td>3.7</td>\n",
       "      <td>59</td>\n",
       "    </tr>\n",
       "    <tr>\n",
       "      <th>22</th>\n",
       "      <td>2.0</td>\n",
       "      <td>82</td>\n",
       "    </tr>\n",
       "    <tr>\n",
       "      <th>23</th>\n",
       "      <td>4.5</td>\n",
       "      <td>51</td>\n",
       "    </tr>\n",
       "    <tr>\n",
       "      <th>24</th>\n",
       "      <td>3.6</td>\n",
       "      <td>61</td>\n",
       "    </tr>\n",
       "    <tr>\n",
       "      <th>25</th>\n",
       "      <td>2.8</td>\n",
       "      <td>69</td>\n",
       "    </tr>\n",
       "    <tr>\n",
       "      <th>26</th>\n",
       "      <td>4.2</td>\n",
       "      <td>55</td>\n",
       "    </tr>\n",
       "    <tr>\n",
       "      <th>27</th>\n",
       "      <td>3.1</td>\n",
       "      <td>66</td>\n",
       "    </tr>\n",
       "    <tr>\n",
       "      <th>28</th>\n",
       "      <td>2.7</td>\n",
       "      <td>72</td>\n",
       "    </tr>\n",
       "    <tr>\n",
       "      <th>29</th>\n",
       "      <td>4.3</td>\n",
       "      <td>54</td>\n",
       "    </tr>\n",
       "    <tr>\n",
       "      <th>30</th>\n",
       "      <td>3.9</td>\n",
       "      <td>57</td>\n",
       "    </tr>\n",
       "    <tr>\n",
       "      <th>31</th>\n",
       "      <td>2.5</td>\n",
       "      <td>70</td>\n",
       "    </tr>\n",
       "    <tr>\n",
       "      <th>32</th>\n",
       "      <td>4.4</td>\n",
       "      <td>53</td>\n",
       "    </tr>\n",
       "    <tr>\n",
       "      <th>33</th>\n",
       "      <td>3.0</td>\n",
       "      <td>65</td>\n",
       "    </tr>\n",
       "    <tr>\n",
       "      <th>34</th>\n",
       "      <td>2.6</td>\n",
       "      <td>73</td>\n",
       "    </tr>\n",
       "    <tr>\n",
       "      <th>35</th>\n",
       "      <td>4.1</td>\n",
       "      <td>58</td>\n",
       "    </tr>\n",
       "    <tr>\n",
       "      <th>36</th>\n",
       "      <td>3.2</td>\n",
       "      <td>68</td>\n",
       "    </tr>\n",
       "    <tr>\n",
       "      <th>37</th>\n",
       "      <td>2.4</td>\n",
       "      <td>75</td>\n",
       "    </tr>\n",
       "    <tr>\n",
       "      <th>38</th>\n",
       "      <td>4.5</td>\n",
       "      <td>51</td>\n",
       "    </tr>\n",
       "    <tr>\n",
       "      <th>39</th>\n",
       "      <td>3.5</td>\n",
       "      <td>60</td>\n",
       "    </tr>\n",
       "    <tr>\n",
       "      <th>40</th>\n",
       "      <td>2.9</td>\n",
       "      <td>71</td>\n",
       "    </tr>\n",
       "    <tr>\n",
       "      <th>41</th>\n",
       "      <td>3.8</td>\n",
       "      <td>56</td>\n",
       "    </tr>\n",
       "    <tr>\n",
       "      <th>42</th>\n",
       "      <td>2.3</td>\n",
       "      <td>76</td>\n",
       "    </tr>\n",
       "    <tr>\n",
       "      <th>43</th>\n",
       "      <td>4.0</td>\n",
       "      <td>52</td>\n",
       "    </tr>\n",
       "    <tr>\n",
       "      <th>44</th>\n",
       "      <td>3.4</td>\n",
       "      <td>62</td>\n",
       "    </tr>\n",
       "    <tr>\n",
       "      <th>45</th>\n",
       "      <td>2.2</td>\n",
       "      <td>78</td>\n",
       "    </tr>\n",
       "    <tr>\n",
       "      <th>46</th>\n",
       "      <td>4.4</td>\n",
       "      <td>53</td>\n",
       "    </tr>\n",
       "    <tr>\n",
       "      <th>47</th>\n",
       "      <td>3.3</td>\n",
       "      <td>63</td>\n",
       "    </tr>\n",
       "    <tr>\n",
       "      <th>48</th>\n",
       "      <td>2.1</td>\n",
       "      <td>80</td>\n",
       "    </tr>\n",
       "    <tr>\n",
       "      <th>49</th>\n",
       "      <td>4.3</td>\n",
       "      <td>54</td>\n",
       "    </tr>\n",
       "    <tr>\n",
       "      <th>50</th>\n",
       "      <td>3.7</td>\n",
       "      <td>59</td>\n",
       "    </tr>\n",
       "    <tr>\n",
       "      <th>51</th>\n",
       "      <td>2.0</td>\n",
       "      <td>82</td>\n",
       "    </tr>\n",
       "    <tr>\n",
       "      <th>52</th>\n",
       "      <td>4.5</td>\n",
       "      <td>61</td>\n",
       "    </tr>\n",
       "    <tr>\n",
       "      <th>53</th>\n",
       "      <td>3.6</td>\n",
       "      <td>69</td>\n",
       "    </tr>\n",
       "    <tr>\n",
       "      <th>54</th>\n",
       "      <td>2.8</td>\n",
       "      <td>50</td>\n",
       "    </tr>\n",
       "  </tbody>\n",
       "</table>\n",
       "</div>"
      ],
      "text/plain": [
       "    Corruption Perception (X)  Government Transparency (Y)\n",
       "0                         3.2                           65\n",
       "1                         2.5                           72\n",
       "2                         4.1                           58\n",
       "3                         2.8                           68\n",
       "4                         3.5                           60\n",
       "5                         2.4                           75\n",
       "6                         3.9                           55\n",
       "7                         2.7                           70\n",
       "8                         3.8                           57\n",
       "9                         2.9                           71\n",
       "10                        4.2                           54\n",
       "11                        2.6                           73\n",
       "12                        3.0                           65\n",
       "13                        2.3                           76\n",
       "14                        4.0                           56\n",
       "15                        3.4                           62\n",
       "16                        2.2                           78\n",
       "17                        4.3                           53\n",
       "18                        3.3                           63\n",
       "19                        2.1                           80\n",
       "20                        4.4                           52\n",
       "21                        3.7                           59\n",
       "22                        2.0                           82\n",
       "23                        4.5                           51\n",
       "24                        3.6                           61\n",
       "25                        2.8                           69\n",
       "26                        4.2                           55\n",
       "27                        3.1                           66\n",
       "28                        2.7                           72\n",
       "29                        4.3                           54\n",
       "30                        3.9                           57\n",
       "31                        2.5                           70\n",
       "32                        4.4                           53\n",
       "33                        3.0                           65\n",
       "34                        2.6                           73\n",
       "35                        4.1                           58\n",
       "36                        3.2                           68\n",
       "37                        2.4                           75\n",
       "38                        4.5                           51\n",
       "39                        3.5                           60\n",
       "40                        2.9                           71\n",
       "41                        3.8                           56\n",
       "42                        2.3                           76\n",
       "43                        4.0                           52\n",
       "44                        3.4                           62\n",
       "45                        2.2                           78\n",
       "46                        4.4                           53\n",
       "47                        3.3                           63\n",
       "48                        2.1                           80\n",
       "49                        4.3                           54\n",
       "50                        3.7                           59\n",
       "51                        2.0                           82\n",
       "52                        4.5                           61\n",
       "53                        3.6                           69\n",
       "54                        2.8                           50"
      ]
     },
     "execution_count": 3,
     "metadata": {},
     "output_type": "execute_result"
    }
   ],
   "source": [
    "corruptions\n",
    "#corruptions adalah penamaan pemanggilan file yang telah ditentukan sebelumnya, yang dimana dapat memanggil file yang telah dinamakan, dengan penamaan corruptions."
   ]
  },
  {
   "cell_type": "markdown",
   "id": "6c2981a8",
   "metadata": {},
   "source": [
    "# Tipe Data"
   ]
  },
  {
   "cell_type": "code",
   "execution_count": 4,
   "id": "ff2f48ad",
   "metadata": {
    "scrolled": true
   },
   "outputs": [
    {
     "name": "stdout",
     "output_type": "stream",
     "text": [
      "<class 'pandas.core.frame.DataFrame'>\n",
      "RangeIndex: 55 entries, 0 to 54\n",
      "Data columns (total 2 columns):\n",
      " #   Column                       Non-Null Count  Dtype  \n",
      "---  ------                       --------------  -----  \n",
      " 0   Corruption Perception (X)    55 non-null     float64\n",
      " 1   Government Transparency (Y)  55 non-null     int64  \n",
      "dtypes: float64(1), int64(1)\n",
      "memory usage: 1008.0 bytes\n"
     ]
    }
   ],
   "source": [
    "corruptions.info()\n",
    "#corruptions.info() adalah pembacaan tipe data, dimana dengan penamaan corruptions yang terkait dengan pembacaan file yang ditentukan dan dipanggil dengan \".info()\"."
   ]
  },
  {
   "cell_type": "markdown",
   "id": "68a1c085",
   "metadata": {},
   "source": [
    "# Menentukan Nilai Unik"
   ]
  },
  {
   "cell_type": "code",
   "execution_count": 5,
   "id": "b2903c93",
   "metadata": {},
   "outputs": [
    {
     "data": {
      "text/plain": [
       "array([3.2, 2.5, 4.1, 2.8, 3.5, 2.4, 3.9, 2.7, 3.8, 2.9, 4.2, 2.6, 3. ,\n",
       "       2.3, 4. , 3.4, 2.2, 4.3, 3.3, 2.1, 4.4, 3.7, 2. , 4.5, 3.6, 3.1])"
      ]
     },
     "execution_count": 5,
     "metadata": {},
     "output_type": "execute_result"
    }
   ],
   "source": [
    "corruptions[\"Corruption Perception (X)\"].unique()\n",
    "#corruptions[\"Corruption Perception (X)\"].unique() adalah kolom dari Corruption Perception (X), dimana siklusnya bersifat bisa saja dominan ada ataupun mengenali sifat-sifatnya, dengan penamaan pembaca file yaitu corruptions dan mengenali sifat yang mempunyai ciri khas yaitu .unique()."
   ]
  },
  {
   "cell_type": "code",
   "execution_count": 6,
   "id": "8c0cce4e",
   "metadata": {},
   "outputs": [
    {
     "data": {
      "text/plain": [
       "array([65, 72, 58, 68, 60, 75, 55, 70, 57, 71, 54, 73, 76, 56, 62, 78, 53,\n",
       "       63, 80, 52, 59, 82, 51, 61, 69, 66, 50], dtype=int64)"
      ]
     },
     "execution_count": 6,
     "metadata": {},
     "output_type": "execute_result"
    }
   ],
   "source": [
    "corruptions[\"Government Transparency (Y)\"].unique()\n",
    "#corruptions[\"Goverment Transparency (Y)\"].unique() adalah kolom dari Goverment Transparency (Y), dimana siklusnya bersifat bisa saja dominan ada ataupun mengenali sifat-sifatnya, dengan penamaan pembaca file yaitu corruptions dan mengenali sifat yang mempunyai ciri khas yaitu .unique()."
   ]
  },
  {
   "cell_type": "markdown",
   "id": "5999713c",
   "metadata": {},
   "source": [
    "# Statistik Deskriptif"
   ]
  },
  {
   "cell_type": "code",
   "execution_count": 7,
   "id": "ef673fc5",
   "metadata": {},
   "outputs": [
    {
     "data": {
      "text/html": [
       "<div>\n",
       "<style scoped>\n",
       "    .dataframe tbody tr th:only-of-type {\n",
       "        vertical-align: middle;\n",
       "    }\n",
       "\n",
       "    .dataframe tbody tr th {\n",
       "        vertical-align: top;\n",
       "    }\n",
       "\n",
       "    .dataframe thead th {\n",
       "        text-align: right;\n",
       "    }\n",
       "</style>\n",
       "<table border=\"1\" class=\"dataframe\">\n",
       "  <thead>\n",
       "    <tr style=\"text-align: right;\">\n",
       "      <th></th>\n",
       "      <th>Corruption Perception (X)</th>\n",
       "      <th>Government Transparency (Y)</th>\n",
       "    </tr>\n",
       "  </thead>\n",
       "  <tbody>\n",
       "    <tr>\n",
       "      <th>count</th>\n",
       "      <td>55.000000</td>\n",
       "      <td>55.000000</td>\n",
       "    </tr>\n",
       "    <tr>\n",
       "      <th>mean</th>\n",
       "      <td>3.307273</td>\n",
       "      <td>64.145455</td>\n",
       "    </tr>\n",
       "    <tr>\n",
       "      <th>std</th>\n",
       "      <td>0.784539</td>\n",
       "      <td>9.314302</td>\n",
       "    </tr>\n",
       "    <tr>\n",
       "      <th>min</th>\n",
       "      <td>2.000000</td>\n",
       "      <td>50.000000</td>\n",
       "    </tr>\n",
       "    <tr>\n",
       "      <th>25%</th>\n",
       "      <td>2.650000</td>\n",
       "      <td>56.000000</td>\n",
       "    </tr>\n",
       "    <tr>\n",
       "      <th>50%</th>\n",
       "      <td>3.300000</td>\n",
       "      <td>63.000000</td>\n",
       "    </tr>\n",
       "    <tr>\n",
       "      <th>75%</th>\n",
       "      <td>4.000000</td>\n",
       "      <td>71.500000</td>\n",
       "    </tr>\n",
       "    <tr>\n",
       "      <th>max</th>\n",
       "      <td>4.500000</td>\n",
       "      <td>82.000000</td>\n",
       "    </tr>\n",
       "  </tbody>\n",
       "</table>\n",
       "</div>"
      ],
      "text/plain": [
       "       Corruption Perception (X)  Government Transparency (Y)\n",
       "count                  55.000000                    55.000000\n",
       "mean                    3.307273                    64.145455\n",
       "std                     0.784539                     9.314302\n",
       "min                     2.000000                    50.000000\n",
       "25%                     2.650000                    56.000000\n",
       "50%                     3.300000                    63.000000\n",
       "75%                     4.000000                    71.500000\n",
       "max                     4.500000                    82.000000"
      ]
     },
     "execution_count": 7,
     "metadata": {},
     "output_type": "execute_result"
    }
   ],
   "source": [
    "corruptions.describe()\n",
    "#corruptions.describe() adalah penyingkat yang dikumpulkan dari data, dimana dari pembaca penamaan file dan tersimpulkan dari .describe()."
   ]
  },
  {
   "cell_type": "markdown",
   "id": "dd0f93c0",
   "metadata": {},
   "source": [
    "# Encoding"
   ]
  },
  {
   "cell_type": "markdown",
   "id": "fd10807f",
   "metadata": {},
   "source": [
    "# Import Library"
   ]
  },
  {
   "cell_type": "code",
   "execution_count": 8,
   "id": "9e7c6985",
   "metadata": {},
   "outputs": [],
   "source": [
    "from sklearn.preprocessing import LabelEncoder\n",
    "#from sklearn.preprocessing import LabelEncoder adalah penjabaran ataupun proses pembentukan, dimana data telah disiapkan sebelumnya yaitu LabelEncoder, juga pemanggilan library/pustaka sklearn."
   ]
  },
  {
   "cell_type": "markdown",
   "id": "cbef4d5f",
   "metadata": {},
   "source": [
    "# Mengubah Values Kolom"
   ]
  },
  {
   "cell_type": "code",
   "execution_count": 9,
   "id": "aa2e6ae5",
   "metadata": {},
   "outputs": [],
   "source": [
    "for col in ['Corruption Perception (X)', 'Government Transparency (Y)']:\n",
    "    label_encoder = LabelEncoder()\n",
    "    corruptions[col] = label_encoder.fit_transform(corruptions[col])\n",
    "#for col in ['Corruption Perception (X)', 'Government Transparency (Y)']:\n",
    "#    label_encoder = LabelEncoder()\n",
    "#    corruptions[col] = label_encoder.fit_transform(corruptions[col])\n",
    "#Dimana, kolom Corruption Perception (X) dan Government Transparency (Y) berkaitan terhadap pemanggilan penamaan file yaitu corruptions. Juga dimana library sklearn yang digunakan pada kelas LabelEncoder dan menjalankan encoding pada kolom tersebut. Dan juga, perulangan pada penamaan pemanggilan file dan kolom tersebut."
   ]
  },
  {
   "cell_type": "code",
   "execution_count": 10,
   "id": "526b9dfd",
   "metadata": {},
   "outputs": [
    {
     "data": {
      "text/html": [
       "<div>\n",
       "<style scoped>\n",
       "    .dataframe tbody tr th:only-of-type {\n",
       "        vertical-align: middle;\n",
       "    }\n",
       "\n",
       "    .dataframe tbody tr th {\n",
       "        vertical-align: top;\n",
       "    }\n",
       "\n",
       "    .dataframe thead th {\n",
       "        text-align: right;\n",
       "    }\n",
       "</style>\n",
       "<table border=\"1\" class=\"dataframe\">\n",
       "  <thead>\n",
       "    <tr style=\"text-align: right;\">\n",
       "      <th></th>\n",
       "      <th>Corruption Perception (X)</th>\n",
       "      <th>Government Transparency (Y)</th>\n",
       "    </tr>\n",
       "  </thead>\n",
       "  <tbody>\n",
       "    <tr>\n",
       "      <th>0</th>\n",
       "      <td>12</td>\n",
       "      <td>14</td>\n",
       "    </tr>\n",
       "    <tr>\n",
       "      <th>1</th>\n",
       "      <td>5</td>\n",
       "      <td>20</td>\n",
       "    </tr>\n",
       "    <tr>\n",
       "      <th>2</th>\n",
       "      <td>21</td>\n",
       "      <td>8</td>\n",
       "    </tr>\n",
       "    <tr>\n",
       "      <th>3</th>\n",
       "      <td>8</td>\n",
       "      <td>16</td>\n",
       "    </tr>\n",
       "    <tr>\n",
       "      <th>4</th>\n",
       "      <td>15</td>\n",
       "      <td>10</td>\n",
       "    </tr>\n",
       "    <tr>\n",
       "      <th>5</th>\n",
       "      <td>4</td>\n",
       "      <td>22</td>\n",
       "    </tr>\n",
       "    <tr>\n",
       "      <th>6</th>\n",
       "      <td>19</td>\n",
       "      <td>5</td>\n",
       "    </tr>\n",
       "    <tr>\n",
       "      <th>7</th>\n",
       "      <td>7</td>\n",
       "      <td>18</td>\n",
       "    </tr>\n",
       "    <tr>\n",
       "      <th>8</th>\n",
       "      <td>18</td>\n",
       "      <td>7</td>\n",
       "    </tr>\n",
       "    <tr>\n",
       "      <th>9</th>\n",
       "      <td>9</td>\n",
       "      <td>19</td>\n",
       "    </tr>\n",
       "    <tr>\n",
       "      <th>10</th>\n",
       "      <td>22</td>\n",
       "      <td>4</td>\n",
       "    </tr>\n",
       "    <tr>\n",
       "      <th>11</th>\n",
       "      <td>6</td>\n",
       "      <td>21</td>\n",
       "    </tr>\n",
       "    <tr>\n",
       "      <th>12</th>\n",
       "      <td>10</td>\n",
       "      <td>14</td>\n",
       "    </tr>\n",
       "    <tr>\n",
       "      <th>13</th>\n",
       "      <td>3</td>\n",
       "      <td>23</td>\n",
       "    </tr>\n",
       "    <tr>\n",
       "      <th>14</th>\n",
       "      <td>20</td>\n",
       "      <td>6</td>\n",
       "    </tr>\n",
       "    <tr>\n",
       "      <th>15</th>\n",
       "      <td>14</td>\n",
       "      <td>12</td>\n",
       "    </tr>\n",
       "    <tr>\n",
       "      <th>16</th>\n",
       "      <td>2</td>\n",
       "      <td>24</td>\n",
       "    </tr>\n",
       "    <tr>\n",
       "      <th>17</th>\n",
       "      <td>23</td>\n",
       "      <td>3</td>\n",
       "    </tr>\n",
       "    <tr>\n",
       "      <th>18</th>\n",
       "      <td>13</td>\n",
       "      <td>13</td>\n",
       "    </tr>\n",
       "    <tr>\n",
       "      <th>19</th>\n",
       "      <td>1</td>\n",
       "      <td>25</td>\n",
       "    </tr>\n",
       "    <tr>\n",
       "      <th>20</th>\n",
       "      <td>24</td>\n",
       "      <td>2</td>\n",
       "    </tr>\n",
       "    <tr>\n",
       "      <th>21</th>\n",
       "      <td>17</td>\n",
       "      <td>9</td>\n",
       "    </tr>\n",
       "    <tr>\n",
       "      <th>22</th>\n",
       "      <td>0</td>\n",
       "      <td>26</td>\n",
       "    </tr>\n",
       "    <tr>\n",
       "      <th>23</th>\n",
       "      <td>25</td>\n",
       "      <td>1</td>\n",
       "    </tr>\n",
       "    <tr>\n",
       "      <th>24</th>\n",
       "      <td>16</td>\n",
       "      <td>11</td>\n",
       "    </tr>\n",
       "    <tr>\n",
       "      <th>25</th>\n",
       "      <td>8</td>\n",
       "      <td>17</td>\n",
       "    </tr>\n",
       "    <tr>\n",
       "      <th>26</th>\n",
       "      <td>22</td>\n",
       "      <td>5</td>\n",
       "    </tr>\n",
       "    <tr>\n",
       "      <th>27</th>\n",
       "      <td>11</td>\n",
       "      <td>15</td>\n",
       "    </tr>\n",
       "    <tr>\n",
       "      <th>28</th>\n",
       "      <td>7</td>\n",
       "      <td>20</td>\n",
       "    </tr>\n",
       "    <tr>\n",
       "      <th>29</th>\n",
       "      <td>23</td>\n",
       "      <td>4</td>\n",
       "    </tr>\n",
       "    <tr>\n",
       "      <th>30</th>\n",
       "      <td>19</td>\n",
       "      <td>7</td>\n",
       "    </tr>\n",
       "    <tr>\n",
       "      <th>31</th>\n",
       "      <td>5</td>\n",
       "      <td>18</td>\n",
       "    </tr>\n",
       "    <tr>\n",
       "      <th>32</th>\n",
       "      <td>24</td>\n",
       "      <td>3</td>\n",
       "    </tr>\n",
       "    <tr>\n",
       "      <th>33</th>\n",
       "      <td>10</td>\n",
       "      <td>14</td>\n",
       "    </tr>\n",
       "    <tr>\n",
       "      <th>34</th>\n",
       "      <td>6</td>\n",
       "      <td>21</td>\n",
       "    </tr>\n",
       "    <tr>\n",
       "      <th>35</th>\n",
       "      <td>21</td>\n",
       "      <td>8</td>\n",
       "    </tr>\n",
       "    <tr>\n",
       "      <th>36</th>\n",
       "      <td>12</td>\n",
       "      <td>16</td>\n",
       "    </tr>\n",
       "    <tr>\n",
       "      <th>37</th>\n",
       "      <td>4</td>\n",
       "      <td>22</td>\n",
       "    </tr>\n",
       "    <tr>\n",
       "      <th>38</th>\n",
       "      <td>25</td>\n",
       "      <td>1</td>\n",
       "    </tr>\n",
       "    <tr>\n",
       "      <th>39</th>\n",
       "      <td>15</td>\n",
       "      <td>10</td>\n",
       "    </tr>\n",
       "    <tr>\n",
       "      <th>40</th>\n",
       "      <td>9</td>\n",
       "      <td>19</td>\n",
       "    </tr>\n",
       "    <tr>\n",
       "      <th>41</th>\n",
       "      <td>18</td>\n",
       "      <td>6</td>\n",
       "    </tr>\n",
       "    <tr>\n",
       "      <th>42</th>\n",
       "      <td>3</td>\n",
       "      <td>23</td>\n",
       "    </tr>\n",
       "    <tr>\n",
       "      <th>43</th>\n",
       "      <td>20</td>\n",
       "      <td>2</td>\n",
       "    </tr>\n",
       "    <tr>\n",
       "      <th>44</th>\n",
       "      <td>14</td>\n",
       "      <td>12</td>\n",
       "    </tr>\n",
       "    <tr>\n",
       "      <th>45</th>\n",
       "      <td>2</td>\n",
       "      <td>24</td>\n",
       "    </tr>\n",
       "    <tr>\n",
       "      <th>46</th>\n",
       "      <td>24</td>\n",
       "      <td>3</td>\n",
       "    </tr>\n",
       "    <tr>\n",
       "      <th>47</th>\n",
       "      <td>13</td>\n",
       "      <td>13</td>\n",
       "    </tr>\n",
       "    <tr>\n",
       "      <th>48</th>\n",
       "      <td>1</td>\n",
       "      <td>25</td>\n",
       "    </tr>\n",
       "    <tr>\n",
       "      <th>49</th>\n",
       "      <td>23</td>\n",
       "      <td>4</td>\n",
       "    </tr>\n",
       "    <tr>\n",
       "      <th>50</th>\n",
       "      <td>17</td>\n",
       "      <td>9</td>\n",
       "    </tr>\n",
       "    <tr>\n",
       "      <th>51</th>\n",
       "      <td>0</td>\n",
       "      <td>26</td>\n",
       "    </tr>\n",
       "    <tr>\n",
       "      <th>52</th>\n",
       "      <td>25</td>\n",
       "      <td>11</td>\n",
       "    </tr>\n",
       "    <tr>\n",
       "      <th>53</th>\n",
       "      <td>16</td>\n",
       "      <td>17</td>\n",
       "    </tr>\n",
       "    <tr>\n",
       "      <th>54</th>\n",
       "      <td>8</td>\n",
       "      <td>0</td>\n",
       "    </tr>\n",
       "  </tbody>\n",
       "</table>\n",
       "</div>"
      ],
      "text/plain": [
       "    Corruption Perception (X)  Government Transparency (Y)\n",
       "0                          12                           14\n",
       "1                           5                           20\n",
       "2                          21                            8\n",
       "3                           8                           16\n",
       "4                          15                           10\n",
       "5                           4                           22\n",
       "6                          19                            5\n",
       "7                           7                           18\n",
       "8                          18                            7\n",
       "9                           9                           19\n",
       "10                         22                            4\n",
       "11                          6                           21\n",
       "12                         10                           14\n",
       "13                          3                           23\n",
       "14                         20                            6\n",
       "15                         14                           12\n",
       "16                          2                           24\n",
       "17                         23                            3\n",
       "18                         13                           13\n",
       "19                          1                           25\n",
       "20                         24                            2\n",
       "21                         17                            9\n",
       "22                          0                           26\n",
       "23                         25                            1\n",
       "24                         16                           11\n",
       "25                          8                           17\n",
       "26                         22                            5\n",
       "27                         11                           15\n",
       "28                          7                           20\n",
       "29                         23                            4\n",
       "30                         19                            7\n",
       "31                          5                           18\n",
       "32                         24                            3\n",
       "33                         10                           14\n",
       "34                          6                           21\n",
       "35                         21                            8\n",
       "36                         12                           16\n",
       "37                          4                           22\n",
       "38                         25                            1\n",
       "39                         15                           10\n",
       "40                          9                           19\n",
       "41                         18                            6\n",
       "42                          3                           23\n",
       "43                         20                            2\n",
       "44                         14                           12\n",
       "45                          2                           24\n",
       "46                         24                            3\n",
       "47                         13                           13\n",
       "48                          1                           25\n",
       "49                         23                            4\n",
       "50                         17                            9\n",
       "51                          0                           26\n",
       "52                         25                           11\n",
       "53                         16                           17\n",
       "54                          8                            0"
      ]
     },
     "execution_count": 10,
     "metadata": {},
     "output_type": "execute_result"
    }
   ],
   "source": [
    "corruptions\n",
    "#corruptions adalah penamaan pemanggilan file yang telah ditentukan sebelumnya, yang dimana dapat memanggil file yang telah dinamakan, dengan penamaan corruptions."
   ]
  },
  {
   "cell_type": "markdown",
   "id": "b9aca93b",
   "metadata": {},
   "source": [
    "# Inisialisasi Kolom"
   ]
  },
  {
   "cell_type": "code",
   "execution_count": 11,
   "id": "9ace801d",
   "metadata": {},
   "outputs": [],
   "source": [
    "x = corruptions['Corruption Perception (X)']\n",
    "#x = corruptions['Corruption Perception (X)'] adalah dimana variabel x dengan ada penamaan pemanggilan file dan kolom Corruption Perception (X) menjadi tempat penyimpanan."
   ]
  },
  {
   "cell_type": "code",
   "execution_count": 12,
   "id": "daafea65",
   "metadata": {},
   "outputs": [],
   "source": [
    "y = corruptions['Government Transparency (Y)']\n",
    "#y = corruptions['Government Transparency (Y)'] adalah dimana variabel y dengan ada penamaan pemanggilan file dan kolom Government Transparency (Y) menjadi tempat penyimpanan."
   ]
  },
  {
   "cell_type": "code",
   "execution_count": 13,
   "id": "5b0198f7",
   "metadata": {},
   "outputs": [
    {
     "data": {
      "text/plain": [
       "0     12\n",
       "1      5\n",
       "2     21\n",
       "3      8\n",
       "4     15\n",
       "5      4\n",
       "6     19\n",
       "7      7\n",
       "8     18\n",
       "9      9\n",
       "10    22\n",
       "11     6\n",
       "12    10\n",
       "13     3\n",
       "14    20\n",
       "15    14\n",
       "16     2\n",
       "17    23\n",
       "18    13\n",
       "19     1\n",
       "20    24\n",
       "21    17\n",
       "22     0\n",
       "23    25\n",
       "24    16\n",
       "25     8\n",
       "26    22\n",
       "27    11\n",
       "28     7\n",
       "29    23\n",
       "30    19\n",
       "31     5\n",
       "32    24\n",
       "33    10\n",
       "34     6\n",
       "35    21\n",
       "36    12\n",
       "37     4\n",
       "38    25\n",
       "39    15\n",
       "40     9\n",
       "41    18\n",
       "42     3\n",
       "43    20\n",
       "44    14\n",
       "45     2\n",
       "46    24\n",
       "47    13\n",
       "48     1\n",
       "49    23\n",
       "50    17\n",
       "51     0\n",
       "52    25\n",
       "53    16\n",
       "54     8\n",
       "Name: Corruption Perception (X), dtype: int64"
      ]
     },
     "execution_count": 13,
     "metadata": {},
     "output_type": "execute_result"
    }
   ],
   "source": [
    "x\n",
    "#x adalah variabel yang berkaitan dengan kolom Corruption Perception (X)"
   ]
  },
  {
   "cell_type": "code",
   "execution_count": 14,
   "id": "59e33aa2",
   "metadata": {},
   "outputs": [
    {
     "data": {
      "text/plain": [
       "0     14\n",
       "1     20\n",
       "2      8\n",
       "3     16\n",
       "4     10\n",
       "5     22\n",
       "6      5\n",
       "7     18\n",
       "8      7\n",
       "9     19\n",
       "10     4\n",
       "11    21\n",
       "12    14\n",
       "13    23\n",
       "14     6\n",
       "15    12\n",
       "16    24\n",
       "17     3\n",
       "18    13\n",
       "19    25\n",
       "20     2\n",
       "21     9\n",
       "22    26\n",
       "23     1\n",
       "24    11\n",
       "25    17\n",
       "26     5\n",
       "27    15\n",
       "28    20\n",
       "29     4\n",
       "30     7\n",
       "31    18\n",
       "32     3\n",
       "33    14\n",
       "34    21\n",
       "35     8\n",
       "36    16\n",
       "37    22\n",
       "38     1\n",
       "39    10\n",
       "40    19\n",
       "41     6\n",
       "42    23\n",
       "43     2\n",
       "44    12\n",
       "45    24\n",
       "46     3\n",
       "47    13\n",
       "48    25\n",
       "49     4\n",
       "50     9\n",
       "51    26\n",
       "52    11\n",
       "53    17\n",
       "54     0\n",
       "Name: Government Transparency (Y), dtype: int64"
      ]
     },
     "execution_count": 14,
     "metadata": {},
     "output_type": "execute_result"
    }
   ],
   "source": [
    "y\n",
    "#y adalah variabel yang berkaitan dengan kolom Goverment Transparency (Y)"
   ]
  },
  {
   "cell_type": "markdown",
   "id": "06d80762",
   "metadata": {},
   "source": [
    "# Splitting Data"
   ]
  },
  {
   "cell_type": "markdown",
   "id": "f5a78b14",
   "metadata": {},
   "source": [
    "# Import Library"
   ]
  },
  {
   "cell_type": "code",
   "execution_count": 15,
   "id": "b4a531f6",
   "metadata": {},
   "outputs": [],
   "source": [
    "from sklearn.model_selection import train_test_split\n",
    "#from sklearn.model_selection import train_test_split adalah data yang ditekan, dimana adanya train dan test pada data yaitu import train_test_split. Dan, mengimpor library/pustaka sklearn yaitu from sklearn.model_selection."
   ]
  },
  {
   "cell_type": "markdown",
   "id": "4b216189",
   "metadata": {},
   "source": [
    "# Membagi Dataset"
   ]
  },
  {
   "cell_type": "code",
   "execution_count": 16,
   "id": "af4338bf",
   "metadata": {},
   "outputs": [],
   "source": [
    "x_train, x_test, y_train, y_test = train_test_split(x, y, test_size=0.8)\n",
    "#x_train, x_test, y_train, y_test = train_test_split(x, y, test_size=0.8) adalah keluaran dari pembagian (yaitu x_train, x_test, y_train dan y_test), dimana dataset yang dipengaruhi variabel x dan y terhadap output maupun input, pembagian data juga diatur dengan 80% atau 80/100 terhadap rasio yang digunakan."
   ]
  },
  {
   "cell_type": "markdown",
   "id": "a6d8a6ae",
   "metadata": {},
   "source": [
    "# Menampilkan Dimensi"
   ]
  },
  {
   "cell_type": "code",
   "execution_count": 17,
   "id": "e09adf6e",
   "metadata": {},
   "outputs": [
    {
     "data": {
      "text/plain": [
       "(11,)"
      ]
     },
     "execution_count": 17,
     "metadata": {},
     "output_type": "execute_result"
    }
   ],
   "source": [
    "x_train.shape\n",
    "#x_train.shape adalah dimensi dari variabel x terhadap latihan"
   ]
  },
  {
   "cell_type": "code",
   "execution_count": 18,
   "id": "83cc6306",
   "metadata": {},
   "outputs": [
    {
     "data": {
      "text/plain": [
       "(44,)"
      ]
     },
     "execution_count": 18,
     "metadata": {},
     "output_type": "execute_result"
    }
   ],
   "source": [
    "x_test.shape\n",
    "#x_test.shape adalah dimensi dari variabel x terhadap tes"
   ]
  },
  {
   "cell_type": "code",
   "execution_count": 19,
   "id": "fc038b03",
   "metadata": {},
   "outputs": [
    {
     "data": {
      "text/plain": [
       "(11,)"
      ]
     },
     "execution_count": 19,
     "metadata": {},
     "output_type": "execute_result"
    }
   ],
   "source": [
    "y_train.shape\n",
    "#y_train.shape adalah dimensi dari variabel y terhadap latihan"
   ]
  },
  {
   "cell_type": "code",
   "execution_count": 20,
   "id": "84b84436",
   "metadata": {},
   "outputs": [
    {
     "data": {
      "text/plain": [
       "(44,)"
      ]
     },
     "execution_count": 20,
     "metadata": {},
     "output_type": "execute_result"
    }
   ],
   "source": [
    "y_test.shape\n",
    "#y_test.shape adalah dimensi dari variabel y terhadap tes"
   ]
  },
  {
   "cell_type": "markdown",
   "id": "045349fc",
   "metadata": {},
   "source": [
    "# Regresi Decision Tree (Regression Decision Tree)"
   ]
  },
  {
   "cell_type": "markdown",
   "id": "75416139",
   "metadata": {},
   "source": [
    "# Membuat Array np Terhadap train"
   ]
  },
  {
   "cell_type": "code",
   "execution_count": 21,
   "id": "a4770e94",
   "metadata": {},
   "outputs": [],
   "source": [
    "x_train = np.array([8., 7., 14., 25., 18., 20., 13., 1., 5., 1., 5.])\n",
    "y_train = np.array([0, 1, 1, 0, 1, 0, 1, 0, 1, 0, 1])\n",
    "#x_train = np.array([8., 7., 14., 25., 18., 20., 13., 1., 5., 1., 5.])\n",
    "#y_train = np.array([0, 1, 1, 0, 1, 0, 1, 0, 1, 0, 1])\n",
    "#Sebuah variabel x_train, dimana sifat dari array variabel dibentuk, lalu sama halnya juga dengan variabel y_train."
   ]
  },
  {
   "cell_type": "code",
   "execution_count": 22,
   "id": "a53d5671",
   "metadata": {},
   "outputs": [],
   "source": [
    "x_train = x_train.reshape(-1, 1)\n",
    "#x_train = x_train.reshape(-1, 1) adalah library/pustaka numpy, dimana x kembali berperan terhadap array x_train menjadi satu kolom."
   ]
  },
  {
   "cell_type": "markdown",
   "id": "195b3c64",
   "metadata": {},
   "source": [
    "# Import Library"
   ]
  },
  {
   "cell_type": "code",
   "execution_count": 23,
   "id": "e88d025b",
   "metadata": {},
   "outputs": [],
   "source": [
    "from sklearn.tree import DecisionTreeClassifier\n",
    "#from sklearn.tree import DecisionTreeClassifier adalah sistem dari decision tree, dimana memasukkan satuan dari DecisionTreeClassifier dari library/pustaka sklearn."
   ]
  },
  {
   "cell_type": "markdown",
   "id": "69d5854c",
   "metadata": {},
   "source": [
    "# Model Klasifikasi"
   ]
  },
  {
   "cell_type": "code",
   "execution_count": 24,
   "id": "f112cfaa",
   "metadata": {
    "scrolled": true
   },
   "outputs": [
    {
     "data": {
      "text/html": [
       "<style>#sk-container-id-1 {color: black;}#sk-container-id-1 pre{padding: 0;}#sk-container-id-1 div.sk-toggleable {background-color: white;}#sk-container-id-1 label.sk-toggleable__label {cursor: pointer;display: block;width: 100%;margin-bottom: 0;padding: 0.3em;box-sizing: border-box;text-align: center;}#sk-container-id-1 label.sk-toggleable__label-arrow:before {content: \"▸\";float: left;margin-right: 0.25em;color: #696969;}#sk-container-id-1 label.sk-toggleable__label-arrow:hover:before {color: black;}#sk-container-id-1 div.sk-estimator:hover label.sk-toggleable__label-arrow:before {color: black;}#sk-container-id-1 div.sk-toggleable__content {max-height: 0;max-width: 0;overflow: hidden;text-align: left;background-color: #f0f8ff;}#sk-container-id-1 div.sk-toggleable__content pre {margin: 0.2em;color: black;border-radius: 0.25em;background-color: #f0f8ff;}#sk-container-id-1 input.sk-toggleable__control:checked~div.sk-toggleable__content {max-height: 200px;max-width: 100%;overflow: auto;}#sk-container-id-1 input.sk-toggleable__control:checked~label.sk-toggleable__label-arrow:before {content: \"▾\";}#sk-container-id-1 div.sk-estimator input.sk-toggleable__control:checked~label.sk-toggleable__label {background-color: #d4ebff;}#sk-container-id-1 div.sk-label input.sk-toggleable__control:checked~label.sk-toggleable__label {background-color: #d4ebff;}#sk-container-id-1 input.sk-hidden--visually {border: 0;clip: rect(1px 1px 1px 1px);clip: rect(1px, 1px, 1px, 1px);height: 1px;margin: -1px;overflow: hidden;padding: 0;position: absolute;width: 1px;}#sk-container-id-1 div.sk-estimator {font-family: monospace;background-color: #f0f8ff;border: 1px dotted black;border-radius: 0.25em;box-sizing: border-box;margin-bottom: 0.5em;}#sk-container-id-1 div.sk-estimator:hover {background-color: #d4ebff;}#sk-container-id-1 div.sk-parallel-item::after {content: \"\";width: 100%;border-bottom: 1px solid gray;flex-grow: 1;}#sk-container-id-1 div.sk-label:hover label.sk-toggleable__label {background-color: #d4ebff;}#sk-container-id-1 div.sk-serial::before {content: \"\";position: absolute;border-left: 1px solid gray;box-sizing: border-box;top: 0;bottom: 0;left: 50%;z-index: 0;}#sk-container-id-1 div.sk-serial {display: flex;flex-direction: column;align-items: center;background-color: white;padding-right: 0.2em;padding-left: 0.2em;position: relative;}#sk-container-id-1 div.sk-item {position: relative;z-index: 1;}#sk-container-id-1 div.sk-parallel {display: flex;align-items: stretch;justify-content: center;background-color: white;position: relative;}#sk-container-id-1 div.sk-item::before, #sk-container-id-1 div.sk-parallel-item::before {content: \"\";position: absolute;border-left: 1px solid gray;box-sizing: border-box;top: 0;bottom: 0;left: 50%;z-index: -1;}#sk-container-id-1 div.sk-parallel-item {display: flex;flex-direction: column;z-index: 1;position: relative;background-color: white;}#sk-container-id-1 div.sk-parallel-item:first-child::after {align-self: flex-end;width: 50%;}#sk-container-id-1 div.sk-parallel-item:last-child::after {align-self: flex-start;width: 50%;}#sk-container-id-1 div.sk-parallel-item:only-child::after {width: 0;}#sk-container-id-1 div.sk-dashed-wrapped {border: 1px dashed gray;margin: 0 0.4em 0.5em 0.4em;box-sizing: border-box;padding-bottom: 0.4em;background-color: white;}#sk-container-id-1 div.sk-label label {font-family: monospace;font-weight: bold;display: inline-block;line-height: 1.2em;}#sk-container-id-1 div.sk-label-container {text-align: center;}#sk-container-id-1 div.sk-container {/* jupyter's `normalize.less` sets `[hidden] { display: none; }` but bootstrap.min.css set `[hidden] { display: none !important; }` so we also need the `!important` here to be able to override the default hidden behavior on the sphinx rendered scikit-learn.org. See: https://github.com/scikit-learn/scikit-learn/issues/21755 */display: inline-block !important;position: relative;}#sk-container-id-1 div.sk-text-repr-fallback {display: none;}</style><div id=\"sk-container-id-1\" class=\"sk-top-container\"><div class=\"sk-text-repr-fallback\"><pre>DecisionTreeClassifier(max_depth=5)</pre><b>In a Jupyter environment, please rerun this cell to show the HTML representation or trust the notebook. <br />On GitHub, the HTML representation is unable to render, please try loading this page with nbviewer.org.</b></div><div class=\"sk-container\" hidden><div class=\"sk-item\"><div class=\"sk-estimator sk-toggleable\"><input class=\"sk-toggleable__control sk-hidden--visually\" id=\"sk-estimator-id-1\" type=\"checkbox\" checked><label for=\"sk-estimator-id-1\" class=\"sk-toggleable__label sk-toggleable__label-arrow\">DecisionTreeClassifier</label><div class=\"sk-toggleable__content\"><pre>DecisionTreeClassifier(max_depth=5)</pre></div></div></div></div></div>"
      ],
      "text/plain": [
       "DecisionTreeClassifier(max_depth=5)"
      ]
     },
     "execution_count": 24,
     "metadata": {},
     "output_type": "execute_result"
    }
   ],
   "source": [
    "modelDT = DecisionTreeClassifier(max_depth=5)\n",
    "modelDT.fit(x_train, y_train)\n",
    "#modelDT = DecisionTreeClassifier(max_depth=5)\n",
    "#modelDT.fit(x_train, y_train)\n",
    "#Dimana sebuah pemikiran terhadap x_train juga y_train, dimana peran fit() terpanggil dengan contoh yang telah dilatih. Lalu, decision tree yang telah dibentuk, mengsyaratkan kedalaman dengan 5 atau max_depth=5 dari pemikiran, juga, penamaan modelDT tempat menyimpan, dimana peran DecisionTreeClassifier() telah terpanggil terhadap decision tree."
   ]
  },
  {
   "cell_type": "markdown",
   "id": "6cadbb78",
   "metadata": {},
   "source": [
    "# Membuat Array np Terhadap test"
   ]
  },
  {
   "cell_type": "code",
   "execution_count": 25,
   "id": "846c37ab",
   "metadata": {},
   "outputs": [],
   "source": [
    "x_test = np.array([17., 10., 22., 2., 20., 14., 5., 23., 0., 24., 25., 7., 2., 24., 25., 12., 3., 4., 18., 4., 6., 18., 1., 7., 8., 16., 1., 9., 11., 19., 13., 19., 23., 16., 13., 21., 15., 8., 21., 3., 24., 8., 25., 15.])\n",
    "x_test = x_test.reshape(-1, 1)\n",
    "#x_test = np.array([17., 10., 22., 2., 20., 14., 5., 23., 0., 24., 25., 7., 2., 24., 25., 12., 3., 4., 18., 4., 6., 18., 1., 7., 8., 16., 1., 9., 11., 19., 13., 19., 23., 16., 13., 21., 15., 8., 21., 3., 24., 8., 25., 15.])\n",
    "#x_test = x_test.reshape(-1, 1)\n",
    "#Dimana peran perulangan pada banyaknya bagian-bagian pada array, terhadap banyaknya baris yang sesuai, juga kerangka terhadap suatu kolom dibentuk dari perubahan array. Lalu, adanya himpunan bilangan normal, dimana pada sebuah array dengan penamaan x_test yang telah dibentuk."
   ]
  },
  {
   "cell_type": "markdown",
   "id": "7cb13a5e",
   "metadata": {},
   "source": [
    "# Menghitung Hasil Prediksi"
   ]
  },
  {
   "cell_type": "code",
   "execution_count": 26,
   "id": "237d17cd",
   "metadata": {
    "scrolled": true
   },
   "outputs": [],
   "source": [
    "hasil_prediksi_dt = modelDT.predict(x_test)\n",
    "#hasil_prediksi_dt = modelDT.predict(x_test) adalah pemikiran dari peran predict(), dimana dimasukkannya data latih (x_test) terhadap pola pengenalan Decision Tree yang terkait dengan perkiraan. Dan juga, penamaan hasil_prediksi_dt tempat menyimpan untuk hasil perkiraan tersebut."
   ]
  },
  {
   "cell_type": "markdown",
   "id": "4f9792c3",
   "metadata": {},
   "source": [
    "# Import Library"
   ]
  },
  {
   "cell_type": "code",
   "execution_count": 27,
   "id": "fcb6c70f",
   "metadata": {},
   "outputs": [],
   "source": [
    "from sklearn.metrics import accuracy_score\n",
    "#from sklearn.metrics import accuracy_score adalah sebuah contoh catatan terhadap catatan yang seharusnya, dimana perpaduan hasil perkiraan juga contoh pengenalan yang telah dibentuk sebelumnya terhadap perhitungan ketepatan. Hal ini berasal dari pemasukan satuan dari accuracy_score, juga pemasukan dari library/pustaka sklearn."
   ]
  },
  {
   "cell_type": "markdown",
   "id": "a322329d",
   "metadata": {},
   "source": [
    "# Hasil Akurasi Model"
   ]
  },
  {
   "cell_type": "code",
   "execution_count": 28,
   "id": "89421d3f",
   "metadata": {},
   "outputs": [
    {
     "name": "stdout",
     "output_type": "stream",
     "text": [
      "Akurasi Model:  2.272727272727273\n"
     ]
    }
   ],
   "source": [
    "print('Akurasi Model: ', accuracy_score(y_test, hasil_prediksi_dt) * 100)\n",
    "#print('Akurasi Model: ', accuracy_score(y_test, hasil_prediksi_dt) * 100 adalah sebuah bagian yang diperkirakan terhadap yang dikalikan dengan 100 terhadap hasil ketepatan yang ditunjukkan. Dan, pemanggilan peran accuracy_score() dari satuan sklearn.matrics, dimana pola pengenalan yang telah dibentuk sebelumnya terhadap menampilkan hasil ketepatan. "
   ]
  },
  {
   "cell_type": "markdown",
   "id": "b7c4406f",
   "metadata": {},
   "source": [
    "# Visualisasi Model"
   ]
  },
  {
   "cell_type": "markdown",
   "id": "b0a987bc",
   "metadata": {},
   "source": [
    "# Import Library"
   ]
  },
  {
   "cell_type": "code",
   "execution_count": 29,
   "id": "832f249c",
   "metadata": {},
   "outputs": [],
   "source": [
    "from sklearn.tree import plot_tree\n",
    "import matplotlib.pyplot as plt\n",
    "#from sklearn.tree import plot_tree\n",
    "#import matplotlib.pyplot as plt\n",
    "#Dimana pemrosesan pembuatan alur visual, dimana dari penggunaan library/pustaka matplotlib. Dan, sistem yang dapat dilihat pada pola decision tree yang telah dibentuk sebelumnya, dimana hal ini berasal dari pemasukan pola plot_tree dan library/pustaka sklearn."
   ]
  },
  {
   "cell_type": "markdown",
   "id": "21f71095",
   "metadata": {},
   "source": [
    "# Menampilkan Pola"
   ]
  },
  {
   "cell_type": "code",
   "execution_count": 30,
   "id": "b5d23306",
   "metadata": {},
   "outputs": [
    {
     "data": {
      "image/png": "[encoded data removed]",
      "text/plain": [
       "<Figure size 2000x1000 with 1 Axes>"
      ]
     },
     "metadata": {},
     "output_type": "display_data"
    }
   ],
   "source": [
    "plt.subplots(figsize=(20, 10))\n",
    "plot_tree(modelDT, fontsize=15)\n",
    "plt.show()\n",
    "#plt.subplots(figsize=(20, 10))\n",
    "#plot_tree(modelDT, fontsize=15)\n",
    "#plt.show()\n",
    "#Dimana sifat yang diberikan pada pemikiran figsize tersesuaikan pada ukuran alur suatu hasil. Pada satuan di pyplot, dimana diambil dari library/pustaka matplotlib, menunjukkan alur pada pemanggilan peran show(), juga memanggil peran plot_tree() dari satuan sklearn.tree terhadap penggambaran dari pola decision tree yang telah dibentuk sebelumnya."
   ]
  },
  {
   "cell_type": "markdown",
   "id": "ade057ef",
   "metadata": {},
   "source": [
    "### Tambahan"
   ]
  },
  {
   "cell_type": "code",
   "execution_count": 31,
   "id": "818f6623",
   "metadata": {},
   "outputs": [],
   "source": [
    "#1. Jika baris perintah berikut dihilangkan\n",
    "#import numpy as np\n",
    "#Maka, pada baris\n",
    "#x_train = np.array([8., 7., 14., 25., 18., 20., 13., 1., 5., 1., 5.])\n",
    "#y_train = np.array([0, 1, 1, 0, 1, 0, 1, 0, 1, 0, 1])\n",
    "#x_train = x_train.reshape(-1, 1)\n",
    "#x_test = np.array([17., 10., 22., 2., 20., 14., 5., 23., 0., 24., 25., 7., 2., 24., 25., 12., 3., 4., 18., 4., 6., 18., 1., 7., 8., 16., 1., 9., 11., 19., 13., 19., 23., 16., 13., 21., 15., 8., 21., 3., 24., 8., 25., 15.])\n",
    "#x_test = x_test.reshape(-1, 1)\n",
    "#Dimana, terjadinya kesalahan pada penamaan np (numpy) tidak dikenal.\n",
    "\n",
    "#2. Jika baris perintah berikut dihilangkan\n",
    "#x_train = np.array([8., 7., 14., 25., 18., 20., 13., 1., 5., 1., 5.])\n",
    "#y_train = np.array([0, 1, 1, 0, 1, 0, 1, 0, 1, 0, 1])\n",
    "#x_train = x_train.reshape(-1, 1)\n",
    "#x_test = np.array([17., 10., 22., 2., 20., 14., 5., 23., 0., 24., 25., 7., 2., 24., 25., 12., 3., 4., 18., 4., 6., 18., 1., 7., 8., 16., 1., 9., 11., 19., 13., 19., 23., 16., 13., 21., 15., 8., 21., 3., 24., 8., 25., 15.])\n",
    "#x_test = x_test.reshape(-1, 1)\n",
    "#Maka, ketetapan pola tidak dapat dihitung, juga tidak ada hasil perkiraan. Poin utamanya yaitu latih dan tes terhadap data pada pola Decision Tree Classsifier tidak bisa dilakukan. Hanya saja, preprocessing pada data corruptions tetap bisa bekerja juga menampilkan hasil normal pada umumya."
   ]
  }
 ],
 "metadata": {
  "kernelspec": {
   "display_name": "Python 3 (ipykernel)",
   "language": "python",
   "name": "python3"
  },
  "language_info": {
   "codemirror_mode": {
    "name": "ipython",
    "version": 3
   },
   "file_extension": ".py",
   "mimetype": "text/x-python",
   "name": "python",
   "nbconvert_exporter": "python",
   "pygments_lexer": "ipython3",
   "version": "3.10.13"
  }
 },
 "nbformat": 4,
 "nbformat_minor": 5
}
